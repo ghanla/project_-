{
 "cells": [
  {
   "cell_type": "markdown",
   "id": "1a4a0818",
   "metadata": {},
   "source": [
    "## 넓이"
   ]
  },
  {
   "cell_type": "code",
   "execution_count": null,
   "id": "2720a40c",
   "metadata": {},
   "outputs": [],
   "source": [
    "class Square:\n",
    "    def __init__(self):\n",
    "        self.square = int(input('넓이를 구하고 싶은 사각형의 숫자를 써주세요.\\n 1.직사각형 2.평행사변형 3.사다리꼴 \\n >>>'))\n",
    "\n",
    "        if self.square == 1:\n",
    "            print('직사각형 함수는 rect()입니다.')\n",
    "\n",
    "        elif self.square == 2:\n",
    "            print('평행사변형 함수는 par()입니다.')\n",
    "        \n",
    "        elif self.square == 3:\n",
    "            print('사다리꼴 함수는 trape()입니다.')\n",
    "        \n",
    "        else:\n",
    "            print('1, 2, 3 중에서 다시 입력해주세요')\n"
   ]
  },
  {
   "cell_type": "code",
   "execution_count": null,
   "id": "ad1d9560",
   "metadata": {},
   "outputs": [],
   "source": [
    " def rect(self):\n",
    "        width, vertical = map(int, input('가로, 세로를 입력하세요. 예시 : 가로,세로\\n >>>').split(','))\n",
    "        area = width * vertical\n",
    "        result = '직사각형의 넓이는 : ' + str(area)\n",
    "        return result"
   ]
  },
  {
   "cell_type": "code",
   "execution_count": null,
   "id": "b9829505",
   "metadata": {},
   "outputs": [],
   "source": [
    "def par(self):\n",
    "        width, hight = map(int, input('가로, 세로를 입력하세요. 예시 : 가로,세로\\n >>>').split(','))\n",
    "        area = width*hight\n",
    "        result = '평행사변형의 넓이는 ' + str(area)\n",
    "        return result"
   ]
  },
  {
   "cell_type": "code",
   "execution_count": null,
   "id": "21ff6f82",
   "metadata": {},
   "outputs": [],
   "source": [
    "def trape(self):\n",
    "        width,width_2, hight = map(int, input('윗변, 아랫변,높이를 입력하세요. 예시 : 윗변,아랫변,높이\\n >>>').split(','))\n",
    "        area = 0.5*(width+width_2)*hight\n",
    "        result = '사다리의 넓이는 ' + str(area)\n",
    "        return result"
   ]
  },
  {
   "cell_type": "code",
   "execution_count": null,
   "id": "12b9bdca",
   "metadata": {},
   "outputs": [],
   "source": [
    "a = Square()  # 객체 생성 & 2, 3을 각각 입력해 봅시다."
   ]
  },
  {
   "cell_type": "markdown",
   "id": "6cbef1c4",
   "metadata": {},
   "source": [
    "## 키오스크"
   ]
  },
  {
   "cell_type": "code",
   "execution_count": 1,
   "id": "951f7b26",
   "metadata": {},
   "outputs": [],
   "source": [
    "class Kiosk:\n",
    "    def __init__(self):\n",
    "        self.menu = menu\n",
    "        self.price = price"
   ]
  },
  {
   "cell_type": "code",
   "execution_count": null,
   "id": "1080ce07",
   "metadata": {},
   "outputs": [],
   "source": [
    "def menu_print(self):\n",
    "        for i in range(len(self.menu)):  # 메뉴의 개수만큼 반복해서\n",
    "            print(i + 1, self.menu[i], ' : ', self.price[i])  # 메뉴와 가격을 출력합니다."
   ]
  },
  {
   "cell_type": "code",
   "execution_count": null,
   "id": "10ce727a",
   "metadata": {},
   "outputs": [],
   "source": [
    "def menu_select(self):\n",
    "        self.order_menu = []  # 주문 리스트\n",
    "        self.order_price = []  # 가격 리스트\n",
    "\n",
    "        n = 0\n",
    "        while n < 1 or len(menu) < n:\n",
    "            n = int(input(\"음료를 번호를 입력하세요 : \"))  # 음료 번호 입력\n",
    "\n",
    "            # 메뉴판에 있는 음료 번호일 때\n",
    "            if 1 <= n & n <= len(menu):\n",
    "                self.order_price.append(self.price[n - 1])  # 가격 리스트에 추가합니다.\n",
    "                self.price_sum = self.price[n - 1]  # 합계 금액\n",
    "\n",
    "                # 메뉴판에 없는 번호일 때\n",
    "            else:\n",
    "                print(\"없는 메뉴입니다. 다시 주문해 주세요.\")\n",
    "\n",
    "        # 음료 온도 물어보기\n",
    "        t = 0  # 기본값을 넣어주고\n",
    "        while t != 1 and t != 2:  # 1이나 2를 입력할 때까지 물어보기\n",
    "            t = int(input(\"HOT 음료는 1을, ICE 음료는 2를 입력하세요 : \"))\n",
    "            # 문제 2-3의 답을 입력하세요.\n",
    "            if t == 1:\n",
    "                self.temp = 'hot'\n",
    "            elif t == 2:\n",
    "                self.temp = 'cold'\n",
    "            else:\n",
    "                print(\"1과 2 중 하나를 입력하세요.\\n\")\n",
    "\n",
    "        self.order_menu.append(self.temp + ' ' + self.menu[n - 1])  # 주문 리스트에 추가합니다.\n",
    "    # 문제 2-2의 답을 입력하세요.\n",
    "        print(self.temp,  self.menu[n-1] , ' : ', self.price[n-1], '원')  # 온도 속성을 추가한 주문 결과를 출력합니다.\n",
    "\n",
    "    # 추가 주문 또는 지불\n",
    "        while n != 0:  # 지불을 선택하기 전까지 반복합니다.\n",
    "            print()  # 줄 바꾸면서\n",
    "            n = int(input(\"추가 주문은 음료 번호를, 지불은 0을 누르세요 : \"))  # 추가 주문 또는 지불\n",
    "            if n > 0 and n < len(self.menu) + 1:\n",
    "            # 추가 음료 온도\n",
    "                t = 0  # 기본값을 넣어주고\n",
    "                while t != 1 and t != 2:  # 1이나 2를 입력할 때까지 물어보기\n",
    "                    t = int(input(\"HOT 음료는 1을, ICE 음료는 2를 입력하세요 : \"))\n",
    "            # 문제 2-3의 답을 입력하세요.\n",
    "                    if t == 1:\n",
    "                        self.temp = 'hot'\n",
    "                    elif t == 2:\n",
    "                        self.temp = 'cold'\n",
    "                    else:\n",
    "                        print(\"1과 2 중 하나를 입력하세요.\\n\")\n",
    "            # 문제 2-4. 추가 음료의 온도를 입력받고, 가격 리스트, 주문 리스트, 합계 금액을 업데이트해보세요.\n",
    "                self.order_price.append(self.price[n - 1])\n",
    "                self.order_menu.append(self.temp +'  '  + self.menu[n-1])\n",
    "                self.price_sum += self.price[n-1]\n",
    "\n",
    "                print(\n",
    "                '추가 주문 음료',  self.temp,  self.menu[n-1] , ' : ', self.price[n-1], '원\\n', '합계 : ', self.price_sum, '원')\n",
    "            else:\n",
    "                if n == 0:  # 지불을 입력하면\n",
    "                    print(\"주문이 완료되었습니다.\")\n",
    "                    print(self.order_menu, self.order_price)  # 확인을 위한 리스트를 출력합니다.\n",
    "                else:  # 없는 번호를 입력할 때\n",
    "                    print(\"없는 메뉴입니다. 다시 주문해 주세요.\")\n"
   ]
  },
  {
   "cell_type": "code",
   "execution_count": null,
   "id": "4704c469",
   "metadata": {},
   "outputs": [],
   "source": [
    "def pay(self):\n",
    "        np=0\n",
    "        while np< 1 or  np >2:\n",
    "            np = int(input('현금은 1번 카드는 2번'))\n",
    "            if np == 1:\n",
    "                print('직원 호출 ㄱㄷ')\n",
    "            elif np ==2:\n",
    "                print('ic 방향 맞게 잘 꽂아라')\n",
    "            else:\n",
    "                print('다시 결제 시도하셈')"
   ]
  },
  {
   "cell_type": "code",
   "execution_count": null,
   "id": "a6e5ecc2",
   "metadata": {},
   "outputs": [],
   "source": [
    "def table(self):\n",
    "        for i in range(len(self.order_menu)):\n",
    "            print(str(self.order_menu[i]) + ':' + str(self.order_price[i]) )\n",
    "\n",
    "        print('합계금액:' + str(self.price_sum))"
   ]
  },
  {
   "cell_type": "code",
   "execution_count": null,
   "id": "153ddec7",
   "metadata": {},
   "outputs": [],
   "source": [
    "a = Kiosk()  # 객체 생성 \n",
    "a.menu_print()  # 메뉴 출력\n",
    "a.menu_select()  # 주문\n",
    "a.pay()  # 지불\n",
    "a.table()  # 주문표 출력"
   ]
  },
  {
   "cell_type": "markdown",
   "id": "51988042",
   "metadata": {},
   "source": [
    "### 회고"
   ]
  },
  {
   "cell_type": "markdown",
   "id": "e9e31d93",
   "metadata": {},
   "source": [
    "천천히 순서에 맞춰서 진행하니 어려운 느낌이 들지 않았다.\n",
    "\n",
    "결과를 보니 길게 작성되어 있는 코드를 볼 수 있었다. def 사용해서 굳이 나눴어야 했나 싶다가도 가속성 및 수정이 좋아서 그러려니 싶다."
   ]
  },
  {
   "cell_type": "code",
   "execution_count": null,
   "id": "209dbe8c",
   "metadata": {},
   "outputs": [],
   "source": []
  }
 ],
 "metadata": {
  "kernelspec": {
   "display_name": "Python 3 (ipykernel)",
   "language": "python",
   "name": "python3"
  },
  "language_info": {
   "codemirror_mode": {
    "name": "ipython",
    "version": 3
   },
   "file_extension": ".py",
   "mimetype": "text/x-python",
   "name": "python",
   "nbconvert_exporter": "python",
   "pygments_lexer": "ipython3",
   "version": "3.9.7"
  }
 },
 "nbformat": 4,
 "nbformat_minor": 5
}
